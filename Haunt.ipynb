{
  "nbformat": 4,
  "nbformat_minor": 0,
  "metadata": {
    "colab": {
      "provenance": [],
      "gpuType": "T4"
    },
    "kernelspec": {
      "name": "python3",
      "display_name": "Python 3"
    },
    "language_info": {
      "name": "python"
    },
    "accelerator": "GPU"
  },
  "cells": [
    {
      "cell_type": "markdown",
      "source": [
        "### ```Holla !```"
      ],
      "metadata": {
        "id": "9PzaVi42lvhc"
      }
    },
    {
      "cell_type": "code",
      "source": [
        "import os\n",
        "\n",
        "import shutil, random\n",
        "\n",
        "import tensorflow as tf\n",
        "\n",
        "from tensorflow.keras import utils, layers\n",
        "\n",
        "from Helper import Helper"
      ],
      "metadata": {
        "id": "oMP22E7ol4ap"
      },
      "execution_count": 1,
      "outputs": []
    },
    {
      "cell_type": "code",
      "source": [
        "for i, t in sources:\n",
        "  helper.filta(t)"
      ],
      "metadata": {
        "id": "Cd4JF44JmHzY"
      },
      "execution_count": null,
      "outputs": []
    },
    {
      "cell_type": "code",
      "source": [
        "image_dir = \"/tmp/images\"\n",
        "\n",
        "if os.path.exists(image_dir):\n",
        "    shutil.rmtree(image_dir)\n",
        "else:\n",
        "    os.mkdir(image_dir)\n",
        "\n",
        "for folder in [\"training\", \"testing\"]:\n",
        "    fone = os.path.join(image_dir, folder)\n",
        "    os.mkdir(fone)\n",
        "    for label in [\"cat\", \"dog\"]:\n",
        "        flabel = os.path.join(fone, label)\n",
        "        os.mkdir(flabel)"
      ],
      "metadata": {
        "id": "NGndaIwtmLf1"
      },
      "execution_count": null,
      "outputs": []
    },
    {
      "cell_type": "code",
      "source": [
        "root_train = \"/tmp/images/training\"; root_testi = \"/tmp/images/testing\"\n",
        "\n",
        "trc = os.path.join(root_train, \"cat\")\n",
        "\n",
        "ttc = os.path.join(root_testi, \"cat\")\n",
        "\n",
        "helper.trainest(sources[0], trc, ttc)"
      ],
      "metadata": {
        "id": "55CnqrTImS8o"
      },
      "execution_count": null,
      "outputs": []
    },
    {
      "cell_type": "code",
      "source": [
        "trd = os.path.join(root_train, \"dog\")\n",
        "\n",
        "ttd = os.path.join(root_testi, \"dog\")\n",
        "\n",
        "helper.trainest(sources[1], trd, ttd)"
      ],
      "metadata": {
        "id": "yuIO5U6QmXLX"
      },
      "execution_count": null,
      "outputs": []
    },
    {
      "cell_type": "code",
      "source": [
        "image_size = (150, 150); batch_size = 128\n",
        "\n",
        "label_mode = \"binary\"; interpolation = \"nearest\"\n",
        "\n",
        "train = utils.image_dataset_from_directory(\n",
        "    root_train,\n",
        "    image_size=image_size,\n",
        "    batch_size=batch_size,\n",
        "    label_mode=label_mode,\n",
        "    interpolation=interpolation)\n",
        "\n",
        "testi = utils.image_dataset_from_directory(\n",
        "    root_testi,\n",
        "    image_size=image_size,\n",
        "    batch_size=batch_size,\n",
        "    label_mode=label_mode,\n",
        "    interpolation=interpolation)"
      ],
      "metadata": {
        "id": "GfhIh5DOmjIR"
      },
      "execution_count": null,
      "outputs": []
    },
    {
      "cell_type": "code",
      "source": [
        "def norm(image, label):\n",
        "  image = tf.cast(image, tf.float32)\n",
        "  image = tf.math.divide(image, 255.0)\n",
        "  return image, label\n",
        "\n",
        "train = train.map(norm).shuffle(100).cache().prefetch(1)\n",
        "\n",
        "testi = testi.map(norm)"
      ],
      "metadata": {
        "id": "Zpz7ydtumlTO"
      },
      "execution_count": null,
      "outputs": []
    },
    {
      "cell_type": "markdown",
      "source": [
        "### ```Model```"
      ],
      "metadata": {
        "id": "hu1vNYMylXao"
      }
    },
    {
      "cell_type": "code",
      "source": [
        "from tensorflow.keras.models import Sequential\n",
        "\n",
        "input_shape = (150, 150, 3); node = 1; lr = 0.001\n",
        "\n",
        "pre_model = Sequential([\n",
        "    layers.RandomFlip(input_shape=input_shape),\n",
        "    layers.RandomRotation(factor=0.4),\n",
        "    layers.RandomTranslation(height_factor=0.2, width_factor=0.2, interpolation=interpolation),\n",
        "    layers.RandomZoom(height_factor=0.2, interpolation=interpolation)\n",
        "])\n",
        "\n",
        "\n",
        "model = Sequential([\n",
        "    pre_model,\n",
        "\n",
        "    layers.Conv2D(16, 3, activation=\"relu\", padding=\"same\"),\n",
        "    layers.BatchNormalization(),\n",
        "    layers.MaxPooling2D(2, 2),\n",
        "\n",
        "    layers.Conv2D(32, 3, activation=\"relu\", padding=\"same\"),\n",
        "    layers.BatchNormalization(),\n",
        "    layers.MaxPooling2D(2, 2),\n",
        "\n",
        "    layers.Conv2D(64, 3, activation=\"relu\", padding=\"same\"),\n",
        "    layers.BatchNormalization(),\n",
        "    layers.MaxPooling2D(2, 2),\n",
        "\n",
        "    layers.Conv2D(128, 3, activation=\"relu\", padding=\"same\"),\n",
        "    layers.BatchNormalization(),\n",
        "    layers.MaxPooling2D(2, 2),\n",
        "\n",
        "    layers.Dropout(0.4),\n",
        "\n",
        "    layers.Flatten(),\n",
        "    layers.Dense(512, activation=\"relu\"),\n",
        "    layers.Dense(node, activation=\"sigmoid\")\n",
        "])"
      ],
      "metadata": {
        "id": "xIXTOfTSm0zp"
      },
      "execution_count": null,
      "outputs": []
    },
    {
      "cell_type": "code",
      "source": [
        "optimizer = tf.keras.optimizers.RMSprop(learning_rate=lr, weight_decay=lr)\n",
        "loss = tf.keras.losses.BinaryCrossentropy()\n",
        "metrics = tf.keras.metrics.BinaryAccuracy()\n",
        "\n",
        "model.compile(optimizer=optimizer, loss=loss, metrics=metrics)"
      ],
      "metadata": {
        "id": "YaKPir0Fm26F"
      },
      "execution_count": null,
      "outputs": []
    },
    {
      "cell_type": "code",
      "source": [
        "from tensorflow.keras.callbacks import EarlyStopping\n",
        "\n",
        "epochs = 18\n",
        "\n",
        "patience = 5; verbose = 1\n",
        "\n",
        "model_hist = model.fit(train, validation_data=testi,\n",
        "                       epochs=epochs, verbose=verbose,\n",
        "                       callbacks=[EarlyStopping(monitor=\"val_binary_accuracy\", patience=patience)])"
      ],
      "metadata": {
        "id": "0M7zhjmSm4kx"
      },
      "execution_count": null,
      "outputs": []
    },
    {
      "cell_type": "markdown",
      "source": [
        "### ```Model II```"
      ],
      "metadata": {
        "id": "eFwju9AYlUbv"
      }
    },
    {
      "cell_type": "code",
      "source": [
        "model_path = \"/tmp/model\"\n",
        "\n",
        "tf.saved_model.save(model, model_path)"
      ],
      "metadata": {
        "id": "zebwPZ-fjseD"
      },
      "execution_count": null,
      "outputs": []
    },
    {
      "cell_type": "code",
      "source": [
        "filemega = lambda filepath : os.path.getsize(filepath) / float(2**20)\n",
        "\n",
        "optm = [tf.lite.Optimize.DEFAULT]\n",
        "\n",
        "tflite_model = Tensolite(model, optm=optm, filename=\"normal_model\")\n",
        "\n",
        "round(filemega(\"/content/normal_model.tflite\"), 3)"
      ],
      "metadata": {
        "id": "76euL17Aj5WO"
      },
      "execution_count": null,
      "outputs": []
    },
    {
      "cell_type": "code",
      "source": [
        "def mini_datagen(main_data, batch=1, take=100):\n",
        "  for t in dataset.from_tensor_slices(main_data).batch(batch).take(take):\n",
        "    yield [t]"
      ],
      "metadata": {
        "id": "nucPhZQ8hShU"
      },
      "execution_count": null,
      "outputs": []
    },
    {
      "cell_type": "code",
      "execution_count": null,
      "metadata": {
        "id": "wciUJB4R7Mpl"
      },
      "outputs": [],
      "source": [
        "tflite_model = lite.from_saved_model(model_path)\n",
        "\n",
        "tflite_model.optimizations = [tf.lite.Optimize.DEFAULT]\n",
        "\n",
        "tflite_model.representative_dataset = mini_datagen"
      ]
    },
    {
      "cell_type": "code",
      "source": [
        "tflite_model.target_spec.supported_ops"
      ],
      "metadata": {
        "id": "G_2aTQdIiFe8"
      },
      "execution_count": null,
      "outputs": []
    },
    {
      "cell_type": "code",
      "source": [
        "tflite_model.target_spec.supported_ops = [tf.lite.OpsSet.TFLITE_BUILTINS_INT8]\n",
        "\n",
        "tflite_model.target_spec.supported_ops"
      ],
      "metadata": {
        "id": "imTpnnVd862v"
      },
      "execution_count": null,
      "outputs": []
    },
    {
      "cell_type": "code",
      "source": [
        "tflite_model.inference_input_type, tflite_model.inference_output_type"
      ],
      "metadata": {
        "id": "cTSrZTz6iHky"
      },
      "execution_count": null,
      "outputs": []
    },
    {
      "cell_type": "code",
      "source": [
        "tflite_model.inference_input_type = tf.uint8\n",
        "\n",
        "tflite_model.inference_output_type = tf.uint8\n",
        "\n",
        "tflite_model.inference_input_type, tflite_model.inference_output_type"
      ],
      "metadata": {
        "id": "ITIb-VdjiMCF"
      },
      "execution_count": null,
      "outputs": []
    }
  ]
}