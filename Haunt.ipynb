{
  "nbformat": 4,
  "nbformat_minor": 0,
  "metadata": {
    "colab": {
      "provenance": [],
      "gpuType": "T4"
    },
    "kernelspec": {
      "name": "python3",
      "display_name": "Python 3"
    },
    "language_info": {
      "name": "python"
    },
    "accelerator": "GPU"
  },
  "cells": [
    {
      "cell_type": "code",
      "source": [
        "import os\n",
        "\n",
        "import shutil, random, pathlib\n",
        "\n",
        "import tensorflow as tf\n",
        "\n",
        "from tensorflow.keras import utils, layers\n",
        "\n",
        "from Helper import Helper"
      ],
      "metadata": {
        "id": "oMP22E7ol4ap"
      },
      "execution_count": null,
      "outputs": []
    },
    {
      "cell_type": "markdown",
      "source": [
        "### ```Holla !```"
      ],
      "metadata": {
        "id": "9PzaVi42lvhc"
      }
    },
    {
      "cell_type": "code",
      "source": [
        "origin = \"https://download.microsoft.com/download/3/E/1/3E1C3F21-ECDB-4869-8368-6DEBA77B919F/kagglecatsanddogs_5340.zip\"\n",
        "\n",
        "Helper = Helper(origin=origin)\n",
        "\n",
        "sources = Helper.Filer"
      ],
      "metadata": {
        "id": "UMsP9c_Wl4_P"
      },
      "execution_count": null,
      "outputs": []
    },
    {
      "cell_type": "code",
      "source": [
        "for t in sources:\n",
        "  Helper.Filter(t)"
      ],
      "metadata": {
        "id": "Cd4JF44JmHzY"
      },
      "execution_count": null,
      "outputs": []
    },
    {
      "cell_type": "code",
      "source": [
        "image_dir = \"/tmp/images\"\n",
        "\n",
        "if os.path.exists(image_dir):\n",
        "    shutil.rmtree(image_dir)\n",
        "else:\n",
        "    os.mkdir(image_dir)\n",
        "\n",
        "for folder in [\"training\", \"testing\"]:\n",
        "    fone = os.path.join(image_dir, folder)\n",
        "    os.mkdir(fone)\n",
        "    for label in [\"cat\", \"dog\"]:\n",
        "        flabel = os.path.join(fone, label)\n",
        "        os.mkdir(flabel)"
      ],
      "metadata": {
        "id": "NGndaIwtmLf1"
      },
      "execution_count": null,
      "outputs": []
    },
    {
      "cell_type": "code",
      "source": [
        "root_train = \"/tmp/images/training\"; root_testi = \"/tmp/images/testing\"\n",
        "\n",
        "trc = os.path.join(root_train, \"cat\")\n",
        "\n",
        "ttc = os.path.join(root_testi, \"cat\")\n",
        "\n",
        "Helper.Traintest(sources[0], trc, ttc)"
      ],
      "metadata": {
        "colab": {
          "base_uri": "https://localhost:8080/"
        },
        "id": "55CnqrTImS8o",
        "outputId": "0a1f77ca-76f9-4c7e-d625-90fad4b8c144"
      },
      "execution_count": null,
      "outputs": [
        {
          "output_type": "execute_result",
          "data": {
            "text/plain": [
              "{'train': 10567, 'test': 1175}"
            ]
          },
          "metadata": {},
          "execution_count": 5
        }
      ]
    },
    {
      "cell_type": "code",
      "source": [
        "trd = os.path.join(root_train, \"dog\")\n",
        "\n",
        "ttd = os.path.join(root_testi, \"dog\")\n",
        "\n",
        "Helper.Traintest(sources[1], trd, ttd)"
      ],
      "metadata": {
        "colab": {
          "base_uri": "https://localhost:8080/"
        },
        "id": "yuIO5U6QmXLX",
        "outputId": "3402b03a-2a6e-4d6c-8914-82f9dacbffb7"
      },
      "execution_count": null,
      "outputs": [
        {
          "output_type": "execute_result",
          "data": {
            "text/plain": [
              "{'train': 10503, 'test': 1167}"
            ]
          },
          "metadata": {},
          "execution_count": 6
        }
      ]
    },
    {
      "cell_type": "code",
      "source": [
        "image_size = (150, 150); batch_size = 128\n",
        "\n",
        "label_mode = \"binary\"; interpolation = \"nearest\"\n",
        "\n",
        "train = utils.image_dataset_from_directory(\n",
        "    root_train,\n",
        "    image_size=image_size,\n",
        "    batch_size=batch_size,\n",
        "    label_mode=label_mode,\n",
        "    interpolation=interpolation)\n",
        "\n",
        "testi = utils.image_dataset_from_directory(\n",
        "    root_testi,\n",
        "    image_size=image_size,\n",
        "    batch_size=batch_size,\n",
        "    label_mode=label_mode,\n",
        "    interpolation=interpolation)"
      ],
      "metadata": {
        "id": "GfhIh5DOmjIR"
      },
      "execution_count": null,
      "outputs": []
    },
    {
      "cell_type": "code",
      "source": [
        "def norm(image, label):\n",
        "  image = tf.cast(image, tf.float32)\n",
        "  image = tf.math.divide(image, 255.0)\n",
        "  return image, label\n",
        "\n",
        "train = train.map(norm).shuffle(100).cache().prefetch(1)\n",
        "\n",
        "testi = testi.map(norm)"
      ],
      "metadata": {
        "id": "Zpz7ydtumlTO"
      },
      "execution_count": null,
      "outputs": []
    },
    {
      "cell_type": "markdown",
      "source": [
        "### ```Model```"
      ],
      "metadata": {
        "id": "hu1vNYMylXao"
      }
    },
    {
      "cell_type": "code",
      "source": [
        "from tensorflow.keras.models import Sequential\n",
        "\n",
        "input_shape = (150, 150, 3); node = 1; lr = 0.001\n",
        "\n",
        "pre_model = Sequential([\n",
        "    layers.RandomFlip(input_shape=input_shape),\n",
        "    layers.RandomRotation(factor=0.4),\n",
        "    layers.RandomTranslation(height_factor=0.2, width_factor=0.2, interpolation=interpolation),\n",
        "    layers.RandomZoom(height_factor=0.2, interpolation=interpolation)\n",
        "])\n",
        "\n",
        "\n",
        "model = Sequential([\n",
        "    pre_model,\n",
        "\n",
        "    layers.Conv2D(16, 3, activation=\"relu\", padding=\"same\"),\n",
        "    layers.BatchNormalization(),\n",
        "    layers.MaxPooling2D(2, 2),\n",
        "\n",
        "    layers.Conv2D(32, 3, activation=\"relu\", padding=\"same\"),\n",
        "    layers.BatchNormalization(),\n",
        "    layers.MaxPooling2D(2, 2),\n",
        "\n",
        "    layers.Conv2D(64, 3, activation=\"relu\", padding=\"same\"),\n",
        "    layers.BatchNormalization(),\n",
        "    layers.MaxPooling2D(2, 2),\n",
        "\n",
        "    layers.Conv2D(128, 3, activation=\"relu\", padding=\"same\"),\n",
        "    layers.BatchNormalization(),\n",
        "    layers.MaxPooling2D(2, 2),\n",
        "\n",
        "    layers.Dropout(0.4),\n",
        "\n",
        "    layers.Flatten(),\n",
        "    layers.Dense(512, activation=\"relu\"),\n",
        "    layers.Dense(node, activation=\"sigmoid\")\n",
        "])"
      ],
      "metadata": {
        "id": "xIXTOfTSm0zp"
      },
      "execution_count": null,
      "outputs": []
    },
    {
      "cell_type": "code",
      "source": [
        "optimizer = tf.keras.optimizers.RMSprop(learning_rate=lr, weight_decay=lr)\n",
        "loss = tf.keras.losses.BinaryCrossentropy()\n",
        "metrics = tf.keras.metrics.BinaryAccuracy()\n",
        "\n",
        "model.compile(optimizer=optimizer, loss=loss, metrics=metrics)"
      ],
      "metadata": {
        "id": "YaKPir0Fm26F"
      },
      "execution_count": null,
      "outputs": []
    },
    {
      "cell_type": "code",
      "source": [
        "from tensorflow.keras.callbacks import EarlyStopping\n",
        "\n",
        "epochs = 15\n",
        "\n",
        "patience = 5; verbose = 1\n",
        "\n",
        "model_hist = model.fit(train, validation_data=testi,\n",
        "                       epochs=epochs, verbose=verbose,\n",
        "                       callbacks=[EarlyStopping(monitor=\"val_binary_accuracy\", patience=patience)])"
      ],
      "metadata": {
        "id": "0M7zhjmSm4kx"
      },
      "execution_count": null,
      "outputs": []
    },
    {
      "cell_type": "markdown",
      "source": [
        "### ```Model II```"
      ],
      "metadata": {
        "id": "FqcqgoLf7YMc"
      }
    },
    {
      "cell_type": "code",
      "source": [
        "model.evaluate(train, verbose=0)"
      ],
      "metadata": {
        "id": "GRwUyRC78Unu",
        "outputId": "8c8243e8-8294-467c-94a8-de3a561540d5",
        "colab": {
          "base_uri": "https://localhost:8080/"
        }
      },
      "execution_count": null,
      "outputs": [
        {
          "output_type": "execute_result",
          "data": {
            "text/plain": [
              "[0.4213312864303589, 0.8113252520561218]"
            ]
          },
          "metadata": {},
          "execution_count": 12
        }
      ]
    },
    {
      "cell_type": "code",
      "source": [
        "model.evaluate(testi, verbose=0)"
      ],
      "metadata": {
        "id": "NiMJ5sfb8WS2",
        "outputId": "47009628-f4ba-4e79-cb9d-ab6f9a1d9f61",
        "colab": {
          "base_uri": "https://localhost:8080/"
        }
      },
      "execution_count": null,
      "outputs": [
        {
          "output_type": "execute_result",
          "data": {
            "text/plain": [
              "[0.4400155246257782, 0.8014517426490784]"
            ]
          },
          "metadata": {},
          "execution_count": 13
        }
      ]
    },
    {
      "cell_type": "code",
      "source": [
        "from Histplot import Histplot\n",
        "\n",
        "image_hist = Histplot(model_hist, hist_acc=\"binary_accuracy\")"
      ],
      "metadata": {
        "id": "wi-bjW-P7a9W"
      },
      "execution_count": null,
      "outputs": []
    },
    {
      "cell_type": "code",
      "source": [
        "image_hist.Trainplot()"
      ],
      "metadata": {
        "id": "yN9e_vYC76di",
        "outputId": "9a746722-23a3-4de6-dcf1-83bf3f111f61",
        "colab": {
          "base_uri": "https://localhost:8080/",
          "height": 528
        }
      },
      "execution_count": null,
      "outputs": [
        {
          "output_type": "display_data",
          "data": {
            "text/plain": [
              "<Figure size 1000x500 with 2 Axes>"
            ],
            "image/png": "[encoded data removed]"
          },
          "metadata": {}
        }
      ]
    },
    {
      "cell_type": "code",
      "source": [
        "image_hist.Testiplot()"
      ],
      "metadata": {
        "id": "OKBv80G67-Y9",
        "outputId": "a9415577-10fc-4c60-d8b3-873a7e78b4b2",
        "colab": {
          "base_uri": "https://localhost:8080/",
          "height": 528
        }
      },
      "execution_count": null,
      "outputs": [
        {
          "output_type": "display_data",
          "data": {
            "text/plain": [
              "<Figure size 1000x500 with 2 Axes>"
            ],
            "image/png": "[encoded data removed]"
          },
          "metadata": {}
        }
      ]
    },
    {
      "cell_type": "markdown",
      "source": [
        "### ```Model III```"
      ],
      "metadata": {
        "id": "eFwju9AYlUbv"
      }
    },
    {
      "cell_type": "code",
      "source": [
        "model_path = \"/tmp/model\"\n",
        "\n",
        "tf.saved_model.save(model, model_path)"
      ],
      "metadata": {
        "id": "zebwPZ-fjseD"
      },
      "execution_count": null,
      "outputs": []
    },
    {
      "cell_type": "code",
      "source": [
        "filemega = lambda filepath : os.path.getsize(filepath) / float(2**20)\n",
        "\n",
        "optm = [tf.lite.Optimize.DEFAULT]\n",
        "\n",
        "tflite_model = Tensolite(model, optm=optm, filename=\"normal_model\")\n",
        "\n",
        "round(filemega(\"/content/normal_model.tflite\"), 3)"
      ],
      "metadata": {
        "colab": {
          "base_uri": "https://localhost:8080/"
        },
        "id": "76euL17Aj5WO",
        "outputId": "4d90af9d-435e-4c2d-ae3c-644283f096d4"
      },
      "execution_count": null,
      "outputs": [
        {
          "output_type": "execute_result",
          "data": {
            "text/plain": [
              "20.634"
            ]
          },
          "metadata": {},
          "execution_count": 18
        }
      ]
    },
    {
      "cell_type": "code",
      "source": [
        "train_image, train_label = next(iter(train))\n",
        "\n",
        "def mini_datagen():\n",
        "  for t in dataset.from_tensor_slices(train_image).batch(1).take(100):\n",
        "    yield [t]"
      ],
      "metadata": {
        "id": "nucPhZQ8hShU"
      },
      "execution_count": null,
      "outputs": []
    },
    {
      "cell_type": "code",
      "execution_count": null,
      "metadata": {
        "id": "wciUJB4R7Mpl"
      },
      "outputs": [],
      "source": [
        "tflite_model = lite.from_saved_model(model_path)\n",
        "\n",
        "tflite_model.optimizations = [tf.lite.Optimize.DEFAULT]\n",
        "\n",
        "tflite_model.representative_dataset = mini_datagen"
      ]
    },
    {
      "cell_type": "code",
      "source": [
        "tflite_model.target_spec.supported_ops"
      ],
      "metadata": {
        "colab": {
          "base_uri": "https://localhost:8080/"
        },
        "id": "G_2aTQdIiFe8",
        "outputId": "ea4f624c-37ff-4a2a-805e-8e9516e4ff81"
      },
      "execution_count": null,
      "outputs": [
        {
          "output_type": "execute_result",
          "data": {
            "text/plain": [
              "{<OpsSet.TFLITE_BUILTINS: 'TFLITE_BUILTINS'>}"
            ]
          },
          "metadata": {},
          "execution_count": 28
        }
      ]
    },
    {
      "cell_type": "code",
      "source": [
        "tflite_model.target_spec.supported_ops = [tf.lite.OpsSet.TFLITE_BUILTINS_INT8]\n",
        "\n",
        "tflite_model.target_spec.supported_ops"
      ],
      "metadata": {
        "id": "imTpnnVd862v",
        "colab": {
          "base_uri": "https://localhost:8080/"
        },
        "outputId": "6fcea126-7013-439e-93e3-e43158553345"
      },
      "execution_count": null,
      "outputs": [
        {
          "output_type": "execute_result",
          "data": {
            "text/plain": [
              "[<OpsSet.TFLITE_BUILTINS_INT8: 'TFLITE_BUILTINS_INT8'>]"
            ]
          },
          "metadata": {},
          "execution_count": 29
        }
      ]
    },
    {
      "cell_type": "code",
      "source": [
        "tflite_model.inference_input_type, tflite_model.inference_output_type"
      ],
      "metadata": {
        "colab": {
          "base_uri": "https://localhost:8080/"
        },
        "id": "cTSrZTz6iHky",
        "outputId": "a08f983e-218a-43a8-aff2-df60ad19f36f"
      },
      "execution_count": null,
      "outputs": [
        {
          "output_type": "execute_result",
          "data": {
            "text/plain": [
              "(tf.float32, tf.float32)"
            ]
          },
          "metadata": {},
          "execution_count": 30
        }
      ]
    },
    {
      "cell_type": "code",
      "source": [
        "tflite_model.inference_input_type = tf.uint8\n",
        "\n",
        "tflite_model.inference_output_type = tf.uint8\n",
        "\n",
        "tflite_model.inference_input_type, tflite_model.inference_output_type"
      ],
      "metadata": {
        "colab": {
          "base_uri": "https://localhost:8080/"
        },
        "id": "ITIb-VdjiMCF",
        "outputId": "f48dc7ac-24c3-4789-8654-3c170589c4ee"
      },
      "execution_count": null,
      "outputs": [
        {
          "output_type": "execute_result",
          "data": {
            "text/plain": [
              "(tf.uint8, tf.uint8)"
            ]
          },
          "metadata": {},
          "execution_count": 31
        }
      ]
    },
    {
      "cell_type": "code",
      "source": [
        "tflite_model_quant = tflite_model.convert()\n",
        "\n",
        "tflite_model_file = pathlib.Path(\"quant_lite.tflite\")\n",
        "\n",
        "tflite_model_file.write_bytes(tflite_model_quant)"
      ],
      "metadata": {
        "id": "ixZtQ8JSB8bz"
      },
      "execution_count": null,
      "outputs": []
    },
    {
      "cell_type": "code",
      "source": [
        "round(filemega(\"/content/quant_lite.tflite\"), 3)"
      ],
      "metadata": {
        "id": "hU9nFJY6CZus",
        "outputId": "52978c4c-3b73-4e87-eda0-6058f43d1e35",
        "colab": {
          "base_uri": "https://localhost:8080/"
        }
      },
      "execution_count": null,
      "outputs": [
        {
          "output_type": "execute_result",
          "data": {
            "text/plain": [
              "5.173"
            ]
          },
          "metadata": {},
          "execution_count": 33
        }
      ]
    }
  ]
}