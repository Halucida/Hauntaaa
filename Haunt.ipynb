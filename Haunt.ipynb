{
  "nbformat": 4,
  "nbformat_minor": 0,
  "metadata": {
    "colab": {
      "provenance": []
    },
    "kernelspec": {
      "name": "python3",
      "display_name": "Python 3"
    },
    "language_info": {
      "name": "python"
    }
  },
  "cells": [
    {
      "cell_type": "code",
      "source": [
        "import tensorflow as tf"
      ],
      "metadata": {
        "id": "L_PTKFn19pOs"
      },
      "execution_count": null,
      "outputs": []
    },
    {
      "cell_type": "code",
      "execution_count": null,
      "metadata": {
        "id": "wciUJB4R7Mpl"
      },
      "outputs": [],
      "source": [
        "tflite_model = lite.from_keras_model(model)\n",
        "\n",
        "tflite_model.optimizations = [tf.lite.Optimize.DEFAULT]\n",
        "\n",
        "tflite_model.representative_dataset = representative_data_gen"
      ]
    },
    {
      "cell_type": "code",
      "source": [
        "tflite_model.target_spec.supported_ops = [tf.lite.OpsSet.TFLITE_BUILTINS_INT8]\n",
        "\n",
        "tflite_model.inference_input_type = tf.uint8\n",
        "\n",
        "tflite_model.inference_output_type = tf.uint8"
      ],
      "metadata": {
        "id": "imTpnnVd862v"
      },
      "execution_count": null,
      "outputs": []
    }
  ]
}