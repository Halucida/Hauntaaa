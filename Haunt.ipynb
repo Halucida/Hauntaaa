{
  "nbformat": 4,
  "nbformat_minor": 0,
  "metadata": {
    "colab": {
      "provenance": [],
      "gpuType": "T4"
    },
    "kernelspec": {
      "name": "python3",
      "display_name": "Python 3"
    },
    "language_info": {
      "name": "python"
    },
    "accelerator": "GPU"
  },
  "cells": [
    {
      "cell_type": "markdown",
      "source": [
        "### ```Model```"
      ],
      "metadata": {
        "id": "hu1vNYMylXao"
      }
    },
    {
      "cell_type": "markdown",
      "source": [
        "### ```Model II```"
      ],
      "metadata": {
        "id": "eFwju9AYlUbv"
      }
    },
    {
      "cell_type": "code",
      "source": [
        "model_path = \"/tmp/model\"\n",
        "\n",
        "tf.saved_model.save(model, model_path)"
      ],
      "metadata": {
        "id": "zebwPZ-fjseD"
      },
      "execution_count": null,
      "outputs": []
    },
    {
      "cell_type": "code",
      "source": [
        "filemega = lambda filepath : os.path.getsize(filepath) / float(2**20)\n",
        "\n",
        "optm = [tf.lite.Optimize.DEFAULT]\n",
        "\n",
        "tflite_model = Tensolite(model, optm=optm, filename=\"normal_model\")\n",
        "\n",
        "round(filemega(\"/content/normal_model.tflite\"), 3)"
      ],
      "metadata": {
        "id": "76euL17Aj5WO"
      },
      "execution_count": null,
      "outputs": []
    },
    {
      "cell_type": "code",
      "source": [
        "def mini_datagen(main_data, batch=1, take=100):\n",
        "  for t in dataset.from_tensor_slices(main_data).batch(batch).take(take):\n",
        "    yield [t]"
      ],
      "metadata": {
        "id": "nucPhZQ8hShU"
      },
      "execution_count": null,
      "outputs": []
    },
    {
      "cell_type": "code",
      "execution_count": null,
      "metadata": {
        "id": "wciUJB4R7Mpl"
      },
      "outputs": [],
      "source": [
        "tflite_model = lite.from_saved_model(model_path)\n",
        "\n",
        "tflite_model.optimizations = [tf.lite.Optimize.DEFAULT]\n",
        "\n",
        "tflite_model.representative_dataset = mini_datagen"
      ]
    },
    {
      "cell_type": "code",
      "source": [
        "tflite_model.target_spec.supported_ops"
      ],
      "metadata": {
        "id": "G_2aTQdIiFe8"
      },
      "execution_count": null,
      "outputs": []
    },
    {
      "cell_type": "code",
      "source": [
        "tflite_model.target_spec.supported_ops = [tf.lite.OpsSet.TFLITE_BUILTINS_INT8]\n",
        "\n",
        "tflite_model.target_spec.supported_ops"
      ],
      "metadata": {
        "id": "imTpnnVd862v"
      },
      "execution_count": null,
      "outputs": []
    },
    {
      "cell_type": "code",
      "source": [
        "tflite_model.inference_input_type, tflite_model.inference_output_type"
      ],
      "metadata": {
        "id": "cTSrZTz6iHky"
      },
      "execution_count": null,
      "outputs": []
    },
    {
      "cell_type": "code",
      "source": [
        "tflite_model.inference_input_type = tf.uint8\n",
        "\n",
        "tflite_model.inference_output_type = tf.uint8\n",
        "\n",
        "tflite_model.inference_input_type, tflite_model.inference_output_type"
      ],
      "metadata": {
        "id": "ITIb-VdjiMCF"
      },
      "execution_count": null,
      "outputs": []
    }
  ]
}